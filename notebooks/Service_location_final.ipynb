{
 "cells": [
  {
   "cell_type": "markdown",
   "metadata": {},
   "source": [
    "<img style=\"float: right; height:90px\" src=\"dove_air.png\"> "
   ]
  },
  {
   "cell_type": "markdown",
   "metadata": {},
   "source": [
    " # Dove Air Site Location Analysis"
   ]
  },
  {
   "cell_type": "markdown",
   "metadata": {
    "extensions": {
     "jupyter_dashboards": {
      "version": 1,
      "views": {
       "grid_default": {
        "col": 0,
        "height": 2,
        "hidden": false,
        "row": 4,
        "width": 12
       },
       "report_default": {
        "col": 0,
        "height": 2,
        "hidden": false,
        "row": 2,
        "width": 12
       }
      }
     }
    }
   },
   "source": [
    "<div style=\"text-align: right\">Author: Phil Li</div>\n",
    "<div style=\"text-align: right\"><b>Engineering and Data Analyst</b></div>"
   ]
  },
  {
   "cell_type": "code",
   "execution_count": 1,
   "metadata": {},
   "outputs": [],
   "source": [
    "# Python Libraries"
   ]
  },
  {
   "cell_type": "code",
   "execution_count": 1,
   "metadata": {},
   "outputs": [],
   "source": [
    "import numpy as np\n",
    "import descartes\n",
    "import pandas as pd\n",
    "import matplotlib.pyplot as pp\n",
    "#%matplotlib inline\n",
    "%matplotlib widget\n",
    "import contextily as ctx\n",
    "from math import radians, cos,sin,asin,sqrt\n",
    "# pd.set_option('display.max_columns',30)\n",
    "import ipywidgets as widgets\n",
    "from ipywidgets import GridspecLayout\n",
    "import os,sys\n",
    "import geopandas as gpd\n",
    "import ipyvuetify as v\n",
    "import psycopg2\n",
    "import os,sys \n",
    "import urllib.parse as urlparse\n",
    "import warnings\n",
    "def ignore_warn(*args,**kwargs):\n",
    "    pass\n",
    "warnings.warn=ignore_warn"
   ]
  },
  {
   "cell_type": "code",
   "execution_count": 3,
   "metadata": {},
   "outputs": [],
   "source": [
    "os.chmod(\"/opt/conda/lib/python3.7/site-packages/.wh.conda-4.8.2-py3.7.egg-info\",0o755)\n",
    "os.chmod(\"/opt/conda/lib/python3.7/site-packages/.wh.certifi-2020.6.20-py3.7.egg-info\",0o755)\n",
    "os.chmod(\"/opt/conda/lib/python3.7/site-packages/.wh.certifi-2020.6.20-py3.6.egg-info\",0o755)\n",
    "os.chmod(\"/opt/conda/lib/python3.7/site-packages/.wh.certifi-2019.11.28-py3.7.egg-info\",0o755)"
   ]
  },
  {
   "cell_type": "code",
   "execution_count": 4,
   "metadata": {},
   "outputs": [],
   "source": [
    "import geoplot as gpt\n",
    "import mapclassify "
   ]
  },
  {
   "cell_type": "code",
   "execution_count": 7,
   "metadata": {},
   "outputs": [],
   "source": [
    "hospital_partial_df=pd.read_csv('Site_location_programing.csv')\n",
    "hospital_gdf=gpd.GeoDataFrame(hospital_partial_df,geometry=gpd.points_from_xy(hospital_partial_df.longitude,hospital_partial_df.latitude))"
   ]
  },
  {
   "cell_type": "code",
   "execution_count": 8,
   "metadata": {},
   "outputs": [],
   "source": [
    "## Functions Created\n",
    "#Functions created to make the code more readable and compact"
   ]
  },
  {
   "cell_type": "code",
   "execution_count": 33,
   "metadata": {},
   "outputs": [],
   "source": [
    "def main_plot(df_map,df_facility,ax):\n",
    "    \"\"\"\n",
    "    plot the background map\n",
    "    \"\"\"\n",
    "    scheme=mapclassify.Quantiles(df_facility.population, 7)\n",
    "    gpt.choropleth(df_map,hue=df_map.population,cmap='PuBu',alpha=0.3,edgecolor='k',scheme=scheme,legend=True,legend_labels=['<319k', '319k-346k', '346k-444k', '444k-514k', '514k-531k','531k-610k','>610k'],legend_kwargs={'bbox_to_anchor': (0.87, 1.05),'fontsize':'small'},ax=ax)\n",
    "    ctx.add_basemap(ax=ax,crs='EPSG:4326', source=ctx.providers.OpenStreetMap.Mapnik)\n",
    "    df_facility[df_facility.facility_type=='HOSPITAL'].plot(ax=ax,markersize=90, color='r',marker='v',label='Hospital',legend=True)\n",
    "    df_facility[df_facility.facility_type=='CLINIC'].plot(ax=ax,markersize=25,color='k',marker=',',label='Clinic',legend=True)\n",
    "    df_facility[(df_facility.facility_type!='HOSPITAL') | (df_facility.facility_type!='CLINIC')].plot(ax=ax,markersize=10, color='k',marker='.',label='Others')\n",
    "\n",
    "def change_coordinates(facility_name,x,y):\n",
    "    \"\"\"\n",
    "    change facility coordinates in medical_df\n",
    "    \"\"\"\n",
    "    medical_gdf.loc[medical_gdf.name==facility_name,'latitude']=x\n",
    "    medical_gdf.loc[medical_gdf.name==facility_name,'longitude']=y\n",
    "    facility=medical_gdf.loc[medical_gdf.name==facility_name]\n",
    "    facility=gpd.GeoDataFrame(facility,geometry=gpd.points_from_xy(facility.longitude,facility.latitude))\n",
    "    \n",
    "def service_range(hosp):\n",
    "    \"\"\"\n",
    "    return 150km range circle & Marker circle by giving a hospital/clinics name\n",
    "    \"\"\"\n",
    "    hospital=medical_gdf[medical_gdf.name==hosp]\n",
    "    circle_l=hospital.geometry.buffer(1.39)\n",
    "    circle_s=hospital.geometry.buffer(0.07)\n",
    "    return circle_l,circle_s\n",
    "\n",
    "def station_location_plot(ax,*vars):\n",
    "    \"\"\"\n",
    "    Plot a single range circle and a center name\n",
    "    \"\"\"\n",
    "    # 'Palegreen','blueviolet','aqua'\n",
    "    color=pd .DataFrame({0:'aqua',1:'Palegreen',2:'blueviolet',3:'tomato'},index=['a'])\n",
    "    for i,hosp in enumerate(vars):\n",
    "        circle_l,circle_s=service_range(hosp)\n",
    "        circle_l.plot(ax=ax,alpha=0.5,edgecolor='k',linewidth=1,color=color[i].values[0])\n",
    "        circle_s.plot(ax=ax,alpha=0.5,edgecolor='k',linewidth=1,color='r')\n",
    "       \n",
    "        #plot hospital & region names\n",
    "        hospital=medical_gdf.loc[medical_gdf.name==hosp]\n",
    "        pp.text(hospital.geometry.x, hospital.geometry.y, f'{hosp}, {hospital.district.values[0]}',fontsize=8,fontweight='bold')\n",
    "\n",
    "def distance_cal(hospital_n,section_n):\n",
    "    \"\"\"\"\n",
    "    calculate the distance between two points on the earth\n",
    "    \"\"\"\n",
    "    #conver decimal degrees to radians\n",
    "    sec=population_cal_df[population_cal_df['section']==section_n]\n",
    "    hosp=medical_gdf[medical_gdf.name==hospital_n]\n",
    "    lon1,lat1,lon2,lat2=map(radians,[sec.longitude,\n",
    "                            sec.latitude,\n",
    "                            hosp.longitude,\n",
    "                            hosp.latitude])\n",
    "    #haversing formula\n",
    "    dlon=lon2-lon1\n",
    "    dlat=lat2-lat1\n",
    "    a=sin(dlat/2)**2 + cos(lat1)*cos(lat2)*sin(dlon/2)**2\n",
    "    c=2*asin(sqrt(a))\n",
    "    r=6371\n",
    "    return round(c*r,2)\n",
    "\n",
    "site_population={}\n",
    "\n",
    "def population_cal(hospital_n):\n",
    "    \"\"\"\"\n",
    "    calculate the population covered within the circle\n",
    "    \"\"\"\n",
    "    pop={}\n",
    "    for hosp in hospital_n:\n",
    "        pop[hosp]=0\n",
    "        for section in population_cal_df.section:\n",
    "            dis=distance_cal(hosp,section)\n",
    "            if dis>=145 and dis<153:\n",
    "                pop[hosp]=pop[hosp]+0.5*population_cal_df[population_cal_df['section']==section].population.values[0]\n",
    "            elif dis<145:\n",
    "                pop[hosp]=pop[hosp]+population_cal_df[population_cal_df['section']==section].population.values[0]\n",
    "            else:\n",
    "                continue\n",
    "        pop[hosp]=round(pop[hosp])\n",
    "        \n",
    "    site_population.clear()\n",
    "    for loc,population in pop.items():\n",
    "        site_population[loc]=population   \n",
    "#     print(f'                            The population coverage at {loc}: {population}')\n",
    "\n",
    "\n",
    "def plot_graph(ax,dist):\n",
    "    \"\"\"\n",
    "    Plot the texts and markers on the medical facilities' coordinates\n",
    "    \"\"\"\n",
    "    chiefdom=chiefdom_population_df[chiefdom_population_df['chiefdom']==dist]\n",
    "    city=hospital_gdf[hospital_gdf['district']==chiefdom.district.values[0]]\n",
    "    ax=ax\n",
    "    # Create a boundary\n",
    "    boundary=list(city.total_bounds)\n",
    "    # Only include population points within the boundary\n",
    "    blob=chiefdom_population_df[chiefdom_population_df['district']==chiefdom.district.values[0]].reset_index(drop=True)\n",
    "    blob['within']=0\n",
    "    for i in blob.index:\n",
    "        if boundary[3]>blob.iloc[i].latitude>boundary[1] and boundary[2]>blob.iloc[i].longitude>boundary[0]:\n",
    "            blob.iloc[i,-1]=1\n",
    "        else:\n",
    "            blob.iloc[i,-1]=0\n",
    "    # Create a background \n",
    "    west,south,east,north=(city.total_bounds)\n",
    "    ghent_img, ghent_ext = ctx.bounds2img(west,\n",
    "                                     south,\n",
    "                                     east,\n",
    "                                     north,\n",
    "                                     ll=True,\n",
    "                                     source=ctx.providers.OpenStreetMap.Mapnik,\n",
    "                                    )\n",
    "    img,ext=ctx.warp_tiles(ghent_img,extent=ghent_ext)\n",
    "    ax.imshow(img, extent=ext)\n",
    "    # Create population blobs\n",
    "    gpt.pointplot(blob[blob['within']==1],scale='total',limits=(1,20),color='cornflowerblue',alpha=0.5,ax=ax) \n",
    "    \n",
    "    # Hospital locations\n",
    "    city[city['Note']!='City center'].plot(ax=ax,marker='*',color='r')\n",
    "    city[city['Note']=='City center'].plot(ax=ax,marker='.',color='mediumblue')\n",
    "    # Hospital names\n",
    "    for i in city.index:\n",
    "        x=hospital_gdf.iloc[i].geometry.x\n",
    "        y=hospital_gdf.iloc[i].geometry.y\n",
    "        pp.text(x,y,hospital_gdf.iloc[i].Name, fontsize=7, fontweight='bold',color='k')"
   ]
  },
  {
   "cell_type": "code",
   "execution_count": 34,
   "metadata": {},
   "outputs": [],
   "source": [
    "# Connect to PostgreSQL"
   ]
  },
  {
   "cell_type": "code",
   "execution_count": 41,
   "metadata": {},
   "outputs": [],
   "source": [
    "# conn=psycopg2.connect(host='localhost',database='sierra_geo',user='postgres')\n",
    "\n",
    "url=urlparse.urlparse(os.environ['DATABASE_URL'])\n",
    "dbname=url.path[1:]\n",
    "user=url.username\n",
    "password=url.password\n",
    "host=url.hostname\n",
    "port=url.port\n",
    "\n",
    "conn=psycopg2.connect(dbname=dbname,\n",
    "                    user=user,\n",
    "                    password=password,\n",
    "                    host=host,\n",
    "                    port=port)"
   ]
  },
  {
   "cell_type": "code",
   "execution_count": 42,
   "metadata": {},
   "outputs": [],
   "source": [
    "population_cal_df=pd.read_sql(\"SELECT * from population_cal\",conn)\n",
    "district_info_df=gpd.read_postgis(\"SELECT district_name,region_name,population,polygon AS geometry FROM district\",conn,geom_col='geometry',crs=4326)\n",
    "medical_gdf=gpd.read_postgis(\"SELECT district,name,address,type AS facility_type, population,latitude,longitude,point AS geometry FROM medical\",conn,geom_col='geometry',crs=4326)\n",
    "chiefdom_population_df=gpd.read_postgis(\"SELECT district,chiefdom,section,total,latitude,longitude,point AS geometry FROM chiefdom_population\",conn,geom_col='geometry',crs=4326)\n",
    "eez_shape_df=gpd.read_postgis(\"SELECT line_name,line AS geometry FROM eez\",conn,geom_col='geometry',crs=4326)"
   ]
  },
  {
   "cell_type": "code",
   "execution_count": 43,
   "metadata": {},
   "outputs": [],
   "source": [
    "conn.close()"
   ]
  },
  {
   "cell_type": "code",
   "execution_count": 21,
   "metadata": {},
   "outputs": [],
   "source": [
    "city_select=v.Select(\n",
    "    prepend_icon='mdi-home-city',\n",
    "    style_='width: 290px',\n",
    "    v_model='e7',\n",
    "    items=['Bo Town','Kenema City'],\n",
    "    label='City Name',\n",
    "    chips=True    \n",
    "    )\n",
    "hospital_select=v.Select(\n",
    "    prepend_icon='mdi-hospital-box',\n",
    "    style_='width: 290px',\n",
    "#    v_model='e6',\n",
    "    items=['Tonkolili','Bo','Port Loko','Karene'],\n",
    "    label='District Name (1)',\n",
    "    multiple=True,\n",
    "    chips=True\n",
    "    ) \n",
    "hospital_EEZ_select=v.Select(\n",
    "    prepend_icon='mdi-hospital-box',\n",
    "    style_='width: 290px',\n",
    "#    v_model='e6',\n",
    "    items=['Tonkolili','Bo','Port Loko','Karene'],\n",
    "    label='District Name (2)',\n",
    "    multiple=True,\n",
    "    chips=True\n",
    "    )"
   ]
  },
  {
   "cell_type": "code",
   "execution_count": null,
   "metadata": {},
   "outputs": [],
   "source": [
    "progress_1=v.ProgressCircular(             \n",
    "    size=20,\n",
    "    width=2,\n",
    "    color='success',\n",
    "    indeterminate=True,\n",
    ")\n",
    "progress_2=v.ProgressCircular(             \n",
    "    size=20,\n",
    "    width=2,\n",
    "    color='deep-purple accent-4',\n",
    "    indeterminate=True,\n",
    ")\n",
    "progress_3=v.ProgressCircular(             \n",
    "    size=20,\n",
    "    width=2,\n",
    "    color='indigo darken-3',\n",
    "    indeterminate=True,\n",
    ")"
   ]
  },
  {
   "cell_type": "code",
   "execution_count": 26,
   "metadata": {},
   "outputs": [],
   "source": [
    "west,south,east,north=(-18.297687,4.683876,-9.915118,9.999282)\n",
    "ghent_img, ghent_ext = ctx.bounds2img(west,\n",
    "                                     south,\n",
    "                                     east,\n",
    "                                     north,\n",
    "                                     ll=True,\n",
    "                                     source=ctx.providers.OpenStreetMap.Mapnik,\n",
    "                                    )\n",
    "img,ext=ctx.warp_tiles(ghent_img,extent=ghent_ext)"
   ]
  },
  {
   "cell_type": "markdown",
   "metadata": {},
   "source": [
    "## Analysis Examples\n",
    "Some analysis results are illustrated below. This includes nationwide medical resourses distribution map (NMRS), citywide medical resources distribution map (CMRS), Economic Exclusive Zone (EEZ) map\n",
    "* `Colors` in NMRS and the `sizes` of circles in CMRS represent the population in that region\n",
    "* The population coverage result underneath the NMRS figure is not accurate at the moment as more data is needed\n",
    "* The circles in NMRS and EEZ have a radius of 150km\n",
    "\n"
   ]
  },
  {
   "cell_type": "code",
   "execution_count": 44,
   "metadata": {},
   "outputs": [
    {
     "data": {
      "application/vnd.jupyter.widget-view+json": {
       "model_id": "67d89a6fa9e74f8789efb83765baf9de",
       "version_major": 2,
       "version_minor": 0
      },
      "text/plain": [
       "GridspecLayout(children=(Html(children=[Html(children=[Chip(children=['City Map'], class_='ma-2', color='succe…"
      ]
     },
     "metadata": {},
     "output_type": "display_data"
    },
    {
     "name": "stderr",
     "output_type": "stream",
     "text": [
      "/anaconda3/envs/Sierra_leone/lib/python3.7/site-packages/ipykernel_launcher.py:26: UserWarning: Geometry is in a geographic CRS. Results from 'buffer' are likely incorrect. Use 'GeoSeries.to_crs()' to re-project geometries to a projected CRS before this operation.\n",
      "\n",
      "/anaconda3/envs/Sierra_leone/lib/python3.7/site-packages/ipykernel_launcher.py:27: UserWarning: Geometry is in a geographic CRS. Results from 'buffer' are likely incorrect. Use 'GeoSeries.to_crs()' to re-project geometries to a projected CRS before this operation.\n",
      "\n",
      "/anaconda3/envs/Sierra_leone/lib/python3.7/site-packages/ipykernel_launcher.py:26: UserWarning: Geometry is in a geographic CRS. Results from 'buffer' are likely incorrect. Use 'GeoSeries.to_crs()' to re-project geometries to a projected CRS before this operation.\n",
      "\n",
      "/anaconda3/envs/Sierra_leone/lib/python3.7/site-packages/ipykernel_launcher.py:27: UserWarning: Geometry is in a geographic CRS. Results from 'buffer' are likely incorrect. Use 'GeoSeries.to_crs()' to re-project geometries to a projected CRS before this operation.\n",
      "\n",
      "/anaconda3/envs/Sierra_leone/lib/python3.7/site-packages/ipykernel_launcher.py:26: UserWarning: Geometry is in a geographic CRS. Results from 'buffer' are likely incorrect. Use 'GeoSeries.to_crs()' to re-project geometries to a projected CRS before this operation.\n",
      "\n",
      "/anaconda3/envs/Sierra_leone/lib/python3.7/site-packages/ipykernel_launcher.py:27: UserWarning: Geometry is in a geographic CRS. Results from 'buffer' are likely incorrect. Use 'GeoSeries.to_crs()' to re-project geometries to a projected CRS before this operation.\n",
      "\n",
      "/anaconda3/envs/Sierra_leone/lib/python3.7/site-packages/ipykernel_launcher.py:26: UserWarning: Geometry is in a geographic CRS. Results from 'buffer' are likely incorrect. Use 'GeoSeries.to_crs()' to re-project geometries to a projected CRS before this operation.\n",
      "\n",
      "/anaconda3/envs/Sierra_leone/lib/python3.7/site-packages/ipykernel_launcher.py:27: UserWarning: Geometry is in a geographic CRS. Results from 'buffer' are likely incorrect. Use 'GeoSeries.to_crs()' to re-project geometries to a projected CRS before this operation.\n",
      "\n",
      "/anaconda3/envs/Sierra_leone/lib/python3.7/site-packages/ipykernel_launcher.py:26: UserWarning: Geometry is in a geographic CRS. Results from 'buffer' are likely incorrect. Use 'GeoSeries.to_crs()' to re-project geometries to a projected CRS before this operation.\n",
      "\n",
      "/anaconda3/envs/Sierra_leone/lib/python3.7/site-packages/ipykernel_launcher.py:27: UserWarning: Geometry is in a geographic CRS. Results from 'buffer' are likely incorrect. Use 'GeoSeries.to_crs()' to re-project geometries to a projected CRS before this operation.\n",
      "\n",
      "/anaconda3/envs/Sierra_leone/lib/python3.7/site-packages/ipykernel_launcher.py:26: UserWarning: Geometry is in a geographic CRS. Results from 'buffer' are likely incorrect. Use 'GeoSeries.to_crs()' to re-project geometries to a projected CRS before this operation.\n",
      "\n",
      "/anaconda3/envs/Sierra_leone/lib/python3.7/site-packages/ipykernel_launcher.py:27: UserWarning: Geometry is in a geographic CRS. Results from 'buffer' are likely incorrect. Use 'GeoSeries.to_crs()' to re-project geometries to a projected CRS before this operation.\n",
      "\n"
     ]
    }
   ],
   "source": [
    "output_2=widgets.Output()\n",
    "output_1=widgets.Output()\n",
    "output_progress_1=widgets.Output()\n",
    "output_progress_2=widgets.Output()\n",
    "output_progress_3=widgets.Output()\n",
    "with output_1:\n",
    "    fig,ax=pp.subplots(figsize=(8,8))\n",
    "\n",
    "select_show_1=v.Html(tag='div', class_='d-flex flex-row', children=[\n",
    "    v.Html(tag='div', class_='d-flex flex-column', children=[\n",
    "        #v.Html(tag='h3', children=['Country Map']),\n",
    "        v.Chip(class_='ma-2',\n",
    "              color='success',\n",
    "              outlined=True,\n",
    "              children=['City Map']),\n",
    "        city_select,\n",
    "    ]),\n",
    "    v.Html(tag='div', class_='d-flex flex-column', children=[\n",
    "        v.Chip(class_='ma-2',\n",
    "              color='deep-purple accent-4',\n",
    "              outlined=True,\n",
    "              children=['Country Map']),\n",
    "        hospital_select\n",
    "    ]),\n",
    "    v.Html(tag='div', class_='d-flex flex-column', children=[\n",
    "        v.Chip(class_='ma-2',\n",
    "              color='indigo darken-3',\n",
    "              outlined=True,\n",
    "              children=['Maritime']),\n",
    "        hospital_EEZ_select\n",
    "    ]),\n",
    "])\n",
    "\n",
    "select_show_2=v.Html(tag='div', class_='d-flex flex-row', children=[\n",
    "    output_progress_1,output_progress_2,output_progress_3])\n",
    "    \n",
    "def on_select(widget,event,data):\n",
    "        pp.cla()\n",
    "        var=data\n",
    "        if widget.label=='City Name':\n",
    "            with output_progress_1:\n",
    "                display(progress_1)\n",
    "            output_2.clear_output()\n",
    "            plot_graph(ax,var)\n",
    "            output_progress_1.clear_output()\n",
    "        elif widget.label=='District Name (1)':\n",
    "            with output_progress_2:\n",
    "                display(progress_2)\n",
    "            var=pd.Series(var).map({'Tonkolili':'Lion Heart Hospital','Bo':'Kindoya Hospital','Port Loko':'Port Loko Government Hospital','Karene':'Holy Spirit Catholic Hosp'}).tolist()\n",
    "            population_cal(var)\n",
    "            output_2.clear_output()\n",
    "            with output_2: \n",
    "                #print('\\n')\n",
    "                for key,value in site_population.items():\n",
    "                    print(f'                              {key} population coverage: {value}')\n",
    "            main_plot(district_info_df,medical_gdf,ax)\n",
    "            station_location_plot(ax,*var)\n",
    "            output_progress_2.clear_output()\n",
    "        else:\n",
    "            with output_progress_3:\n",
    "                display(progress_3)\n",
    "            output_2.clear_output()\n",
    "            var=pd.Series(var).map({'Tonkolili':'Lion Heart Hospital','Bo':'Kindoya Hospital','Port Loko':'Port Loko Government Hospital','Karene':'Holy Spirit Catholic Hosp'}).tolist()\n",
    "            ax.imshow(img, extent=ext)\n",
    "            eez_shape_df.plot(ax=ax,color='r')\n",
    "            station_location_plot(ax,*var)\n",
    "            output_progress_3.clear_output()\n",
    "\n",
    "city_select.on_event('change', on_select)\n",
    "hospital_select.on_event('change',on_select)\n",
    "hospital_EEZ_select.on_event('change',on_select)\n",
    "\n",
    "# fig,ax=pp.subplots(figsize=(8,8))\n",
    "# v.Container(children=[select_show])\n",
    "    \n",
    "grid = GridspecLayout(50, 16, height='1130px')\n",
    "grid[:5, 2:14] = select_show_1\n",
    "grid[3, 1] = select_show_2\n",
    "grid[6:40, 2:14] =output_1\n",
    "grid[40:50, 2:14] = output_2\n",
    "grid"
   ]
  }
 ],
 "metadata": {
  "extensions": {
   "jupyter_dashboards": {
    "activeView": "report_default",
    "version": 1,
    "views": {
     "grid_default": {
      "cellMargin": 10,
      "defaultCellHeight": 20,
      "maxColumns": 12,
      "name": "grid",
      "type": "grid"
     },
     "report_default": {
      "name": "report",
      "type": "report"
     }
    }
   }
  },
  "kernelspec": {
   "display_name": "Sierra_leone",
   "language": "python",
   "name": "sierra_leone"
  },
  "language_info": {
   "codemirror_mode": {
    "name": "ipython",
    "version": 3
   },
   "file_extension": ".py",
   "mimetype": "text/x-python",
   "name": "python",
   "nbconvert_exporter": "python",
   "pygments_lexer": "ipython3",
   "version": "3.7.7"
  }
 },
 "nbformat": 4,
 "nbformat_minor": 4
}
