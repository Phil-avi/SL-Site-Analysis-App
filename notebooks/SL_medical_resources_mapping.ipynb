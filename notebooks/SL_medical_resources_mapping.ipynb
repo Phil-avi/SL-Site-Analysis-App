{
 "cells": [
  {
   "cell_type": "markdown",
   "metadata": {},
   "source": [
    "<img style=\"float: right; height:90px\" src=\"dove_air.png\"> "
   ]
  },
  {
   "cell_type": "markdown",
   "metadata": {},
   "source": [
    " # Sierra Leone Medical Resources Distribution Analysis"
   ]
  },
  {
   "cell_type": "markdown",
   "metadata": {},
   "source": [
    "<div style=\"text-align: right\">Author: Phil Li</div>\n",
    "<div style=\"text-align: right\"><b>Engineering and Data Analyst</b></div>"
   ]
  },
  {
   "cell_type": "code",
   "execution_count": 1,
   "metadata": {},
   "outputs": [],
   "source": [
    "import pandas as pd\n",
    "#%matplotlib inline\n",
    "%matplotlib widget\n",
    "from math import radians, cos,sin,asin,sqrt\n",
    "# pd.set_option('display.max_columns',30)\n",
    "from ipywidgets import HTML\n",
    "import os,sys\n",
    "import geopandas as gpd\n",
    "import ipyvuetify as v\n",
    "import psycopg2\n",
    "import os,sys \n",
    "import urllib.parse as urlparse\n",
    "import warnings\n",
    "def ignore_warn(*args,**kwargs):\n",
    "    pass\n",
    "warnings.warn=ignore_warn"
   ]
  },
  {
   "cell_type": "code",
   "execution_count": 2,
   "metadata": {},
   "outputs": [],
   "source": [
    "for root, dirs, files in os.walk(\"/opt/conda/lib/python3.8/site-packages\"):\n",
    "    for f in files:\n",
    "        os.chmod(os.path.join(root, f), 0o755)"
   ]
  },
  {
   "cell_type": "code",
   "execution_count": 3,
   "metadata": {},
   "outputs": [],
   "source": [
    "import mapclassify \n",
    "from ipyleaflet import Choropleth,Map,GeoJSON,basemaps,ScaleControl,LayersControl, FullScreenControl,MeasureControl,AwesomeIcon,Marker,Popup,Circle,LayerGroup,LayersControl,MarkerCluster,SearchControl,GeoData,WidgetControl\n",
    "from branca.colormap import linear"
   ]
  },
  {
   "cell_type": "code",
   "execution_count": 4,
   "metadata": {},
   "outputs": [],
   "source": [
    "url=urlparse.urlparse(os.environ['DATABASE_URL'])\n",
    "dbname=url.path[1:]\n",
    "user=url.username\n",
    "password=url.password\n",
    "host=url.hostname\n",
    "port=url.port\n",
    "\n",
    "conn=psycopg2.connect(dbname=dbname,\n",
    "                    user=user,\n",
    "                    password=password,\n",
    "                    host=host,\n",
    "                    port=port)"
   ]
  },
  {
   "cell_type": "code",
   "execution_count": 5,
   "metadata": {},
   "outputs": [],
   "source": [
    "# conn=psycopg2.connect(host='localhost',database='sierra_geo',user='postgres')\n",
    "population_cal_df=pd.read_sql(\"SELECT * from population_cal\",conn)\n",
    "district_info_df=gpd.read_postgis(\"SELECT district_name,region_name,population,polygon AS geometry FROM district\",conn,geom_col='geometry',crs=4326)\n",
    "medical_gdf=gpd.read_postgis(\"SELECT district,name,type AS facility_type, latitude,longitude,point AS geometry FROM medical\",conn,geom_col='geometry',crs=4326)\n",
    "eez_shape_df=gpd.read_postgis(\"SELECT line_name,line AS geometry FROM eez\",conn,geom_col='geometry',crs=4326)\n",
    "conn.close()"
   ]
  },
  {
   "cell_type": "code",
   "execution_count": 6,
   "metadata": {},
   "outputs": [],
   "source": [
    "## Choropleth"
   ]
  },
  {
   "cell_type": "code",
   "execution_count": 7,
   "metadata": {},
   "outputs": [],
   "source": [
    "features=[]\n",
    "for i in district_info_df.district_name.values:\n",
    "    single_json=gpd.GeoSeries(district_info_df[district_info_df['district_name']==i].geometry.values).__geo_interface__\n",
    "    single_json['features'][0]['id']=i\n",
    "    single_json['features'][0]['properties']['name']=i\n",
    "    features.append(single_json['features'][0])\n",
    "district_json={\"type\":\"FeatureCollection\",\"features\":features}"
   ]
  },
  {
   "cell_type": "code",
   "execution_count": 8,
   "metadata": {},
   "outputs": [],
   "source": [
    "choro_data={}\n",
    "for i,key in enumerate(district_info_df.population.sort_values().index.values):\n",
    "    color=5+(i//2)*0.4\n",
    "    choro_data[district_info_df.iloc[key].district_name]=color"
   ]
  },
  {
   "cell_type": "code",
   "execution_count": 9,
   "metadata": {},
   "outputs": [],
   "source": [
    "layer_choro=Choropleth(\n",
    "geo_data=district_json,\n",
    "choro_data=choro_data,\n",
    "colormap=linear.YlOrRd_04,\n",
    "style={'fillOpacity': 0.8, 'dashArray': '5, 5'},\n",
    "key_on='id',\n",
    "name='Choropleth')"
   ]
  },
  {
   "cell_type": "code",
   "execution_count": 10,
   "metadata": {},
   "outputs": [],
   "source": [
    "## Site Coverage"
   ]
  },
  {
   "cell_type": "code",
   "execution_count": 11,
   "metadata": {},
   "outputs": [],
   "source": [
    "circle_1=Circle(location=(medical_gdf[medical_gdf['name']=='Kindoya Hospital'].latitude.values[0],medical_gdf[medical_gdf['name']=='Kindoya Hospital'].longitude.values[0]),\n",
    "             radius=150000,\n",
    "             color='aqua',\n",
    "             stroke=False,\n",
    "             fill_opacity=0.5,\n",
    "               name='Kindoya Hospital, Bo')\n",
    "circle_2=Circle(location=(medical_gdf[medical_gdf['name']=='Port Loko Government Hospital'].latitude.values[0],medical_gdf[medical_gdf['name']=='Port Loko Government Hospital'].longitude.values[0]),\n",
    "             radius=150000,\n",
    "             color='tomato',\n",
    "             stroke=False,\n",
    "             fill_opacity=0.5,\n",
    "               name='Port Loko Government Hospital, Port Loko')\n",
    "circle_group=LayerGroup(name='Site Coverage',layers=(circle_1,circle_2))"
   ]
  },
  {
   "cell_type": "code",
   "execution_count": 12,
   "metadata": {},
   "outputs": [],
   "source": [
    "## Population Calculation"
   ]
  },
  {
   "cell_type": "code",
   "execution_count": 13,
   "metadata": {},
   "outputs": [],
   "source": [
    "def distance_cal(hospital_n,section_n):\n",
    "    \"\"\"\"\n",
    "    calculate the distance between two points on the earth\n",
    "    \"\"\"\n",
    "    #conver decimal degrees to radians\n",
    "    sec=population_cal_df[population_cal_df['section']==section_n]\n",
    "    hosp=medical_gdf[medical_gdf.name==hospital_n]\n",
    "    lon1,lat1,lon2,lat2=map(radians,[sec.longitude,\n",
    "                            sec.latitude,\n",
    "                            hosp.longitude,\n",
    "                            hosp.latitude])\n",
    "    #haversing formula\n",
    "    dlon=lon2-lon1\n",
    "    dlat=lat2-lat1\n",
    "    a=sin(dlat/2)**2 + cos(lat1)*cos(lat2)*sin(dlon/2)**2\n",
    "    c=2*asin(sqrt(a))\n",
    "    r=6371\n",
    "    return round(c*r,2)\n",
    "\n",
    "site_population={}\n",
    "\n",
    "def population_cal(hospital_n):\n",
    "    \"\"\"\"\n",
    "    calculate the population covered within the circle\n",
    "    \"\"\"\n",
    "    pop={}\n",
    "    for hosp in hospital_n:\n",
    "        pop[hosp]=0\n",
    "        for section in population_cal_df.section:\n",
    "            dis=distance_cal(hosp,section)\n",
    "            if dis>=145 and dis<153:\n",
    "                pop[hosp]=pop[hosp]+0.5*population_cal_df[population_cal_df['section']==section].population.values[0]\n",
    "            elif dis<145:\n",
    "                pop[hosp]=pop[hosp]+population_cal_df[population_cal_df['section']==section].population.values[0]\n",
    "            else:\n",
    "                continue\n",
    "        pop[hosp]=round(pop[hosp])\n",
    "        \n",
    "    site_population.clear()\n",
    "    for loc,population in pop.items():\n",
    "        site_population[f'{loc}, {medical_gdf[medical_gdf[\"name\"]==loc].district.values[0]}']=population \n",
    "population_cal(['Kindoya Hospital','Port Loko Government Hospital'])"
   ]
  },
  {
   "cell_type": "code",
   "execution_count": 14,
   "metadata": {},
   "outputs": [],
   "source": [
    "# Ipyvuetify\n",
    "chip_1=v.Chip(\n",
    "              class_='ma-1',\n",
    "              color='success',\n",
    "              outlined=True,\n",
    "              x_small=True,\n",
    "              children=[v.Icon(left=True,children=['mdi-account-group']),f'{list(site_population.keys())[0]}: {site_population[list(site_population.keys())[0]]} (Population)'\n",
    "              ])\n",
    "chip_2=v.Chip(prepend_icon='mdi-hospital-box',\n",
    "              class_='ma-1',\n",
    "              color='green',\n",
    "              x_small=True,\n",
    "              text_color=\"white\",\n",
    "              children=[v.Icon(left=True,children=['mdi-account-group']),f'Port Loko Govt Hospital: {site_population[list(site_population.keys())[1]]} (Population)'])\n",
    "\n",
    "box=v.Html(tag='div', class_='d-flex flex-column', children=[\n",
    "        chip_1,\n",
    "        chip_2\n",
    "    ])\n",
    "\n",
    "widget_control = WidgetControl(widget=box, position='bottomright')"
   ]
  },
  {
   "cell_type": "code",
   "execution_count": 15,
   "metadata": {},
   "outputs": [],
   "source": [
    "## Hospitals & Clinics"
   ]
  },
  {
   "cell_type": "code",
   "execution_count": 18,
   "metadata": {},
   "outputs": [],
   "source": [
    "medical_gdf=medical_gdf[(medical_gdf['district']=='Bo') | (medical_gdf['district']=='Kenema') ].reset_index(drop=True)"
   ]
  },
  {
   "cell_type": "code",
   "execution_count": 19,
   "metadata": {},
   "outputs": [],
   "source": [
    "icon1 = AwesomeIcon(\n",
    "    name='hospital-o',\n",
    "    marker_color='blue',\n",
    "    icon_color='black',\n",
    "    spin=False    \n",
    ")\n",
    "\n",
    "hospital=[]\n",
    "for i,key in enumerate(medical_gdf[medical_gdf['facility_type']=='HOSPITAL'].index.values):\n",
    "    series=medical_gdf.iloc[key]\n",
    "    marker=Marker(icon=icon1, draggable=False,opacity=0.8,location=(series.latitude,series.longitude))\n",
    "    message=HTML()\n",
    "    message.value=f'<b>{medical_gdf.iloc[key,1]}</b>'\n",
    "    marker.popup=message\n",
    "    hospital.append(marker)\n",
    "hospital=tuple(hospital)\n",
    "marker_cluster=MarkerCluster(name='Hospitals',markers=hospital)"
   ]
  },
  {
   "cell_type": "code",
   "execution_count": 20,
   "metadata": {},
   "outputs": [],
   "source": [
    "## EEZ"
   ]
  },
  {
   "cell_type": "code",
   "execution_count": 21,
   "metadata": {},
   "outputs": [],
   "source": [
    "geo_data = GeoData(geo_dataframe = eez_shape_df,\n",
    "                   style={'color': 'red', 'fillColor': '#3366cc', 'opacity':0.4, 'weight':1.9, 'dashArray':'2', 'fillOpacity':0.6},\n",
    "                   hover_style={'fillColor': 'white' , 'fillOpacity': 0.2},\n",
    "                   name = 'eez')"
   ]
  },
  {
   "cell_type": "code",
   "execution_count": 22,
   "metadata": {},
   "outputs": [],
   "source": [
    "## Search Control"
   ]
  },
  {
   "cell_type": "code",
   "execution_count": 23,
   "metadata": {},
   "outputs": [],
   "source": [
    "district_SL = GeoJSON(data=district_json,style={\n",
    "        'opacity': 0.5, 'dashArray': '9', 'fillOpacity': 0.05, 'weight': 1},\n",
    "         hover_style={\n",
    "        'color': 'white', 'dashArray': '0', 'fillOpacity': 0.1\n",
    "    })\n",
    "layer_group = LayerGroup(layers=(district_SL,))\n",
    "marker_search = Marker(icon=AwesomeIcon(name=\"check\", marker_color='green', icon_color='darkgreen'))\n",
    "search_control=SearchControl(position=\"topleft\",\n",
    "#   url='https://nominatim.openstreetmap.org/search?format=json&q={s}',\n",
    "  layer=layer_group,\n",
    "  zoom=10,\n",
    "  property_name='name',\n",
    "  marker=marker_search,\n",
    "  found_style={'fillColor': '#3f0', 'color': '#0f0'})"
   ]
  },
  {
   "cell_type": "code",
   "execution_count": 24,
   "metadata": {},
   "outputs": [],
   "source": [
    "## Measure Control"
   ]
  },
  {
   "cell_type": "code",
   "execution_count": 25,
   "metadata": {},
   "outputs": [],
   "source": [
    "measure = MeasureControl(\n",
    "    position='topleft',\n",
    "    active_color = 'blue',\n",
    "    primary_length_unit = 'kilometers',\n",
    "    primary_area_unit='sqmeters'\n",
    ")\n",
    "measure.completed_color = 'green'"
   ]
  },
  {
   "cell_type": "code",
   "execution_count": 26,
   "metadata": {},
   "outputs": [],
   "source": [
    "## MAP"
   ]
  },
  {
   "cell_type": "markdown",
   "metadata": {},
   "source": [
    "## Analysis Examples\n",
    "Some analysis results are illustrated below. This interactive map serves as a standalone dashboard for exploring the medical resources distribution and Dove Air's urgent medicine delivery service range in Sierra Leone."
   ]
  },
  {
   "cell_type": "code",
   "execution_count": 27,
   "metadata": {
    "scrolled": false
   },
   "outputs": [
    {
     "data": {
      "application/vnd.jupyter.widget-view+json": {
       "model_id": "5a796c3f780b49ff90dbbdbb36b34f09",
       "version_major": 2,
       "version_minor": 0
      },
      "text/plain": [
       "Map(center=[7.961902, -11.720791], controls=(ZoomControl(options=['position', 'zoom_in_text', 'zoom_in_title',…"
      ]
     },
     "metadata": {},
     "output_type": "display_data"
    }
   ],
   "source": [
    "center =[7.961902,-11.720791]\n",
    "zoom=7\n",
    "# Layer Control\n",
    "layer_control = LayersControl(position='topright',hide=True)\n",
    "\n",
    "m=Map(basemap=basemaps.OpenStreetMap.Mapnik, center=center, zoom=zoom)\n",
    "\n",
    "m.add_control(FullScreenControl())\n",
    "m.add_control(search_control)\n",
    "m.add_layer(circle_group)\n",
    "m.add_layer(layer_choro)\n",
    "m.add_layer(marker_cluster)\n",
    "m.add_layer(geo_data)\n",
    "m.add_control(widget_control)\n",
    "m.add_control(layer_control)\n",
    "m.add_control(measure)\n",
    "\n",
    "m"
   ]
  },
  {
   "cell_type": "markdown",
   "metadata": {},
   "source": [
    "Features:\n",
    "* `Measure` (Top Left) - measure distances and areas by adding points to the map\n",
    "* `Search` (Top Left) - districts in Sierra Leone could be found through the search engine (eg: `Bo`, `Kenema`, `Port Loko`, `Western Area Urban`)\n",
    "* `Layer Selection` (Top Right) - select or deselect layers on top of the map\n",
    "* `Service Coverage` (Bottom Right) - population coverage of each service center\n",
    "\n",
    "Layers:\n",
    "* `Site Coverage` - circles with the centers at Dove Air service centers and 150km radius (delivery range)\n",
    "* `Choropleth` - total population of each district (darker color represents higher population)\n",
    "* `Hospitals` - hospitals within Sierra Leone (data is incomplete)\n",
    "* `eez` - exclusive economic zone \n",
    "\n",
    "Notes:\n",
    "* Please see hospitals in `Bo` or `Kenema` for a city-level demo\n",
    "* It is advised to deselect `Site Coverage` and `Choropleth` layers for better visibility at city levels\n",
    "* <p style='color:red'> It may take a minute or two for the display to first appear...</p>"
   ]
  }
 ],
 "metadata": {
  "kernelspec": {
   "display_name": "Sierra_leone",
   "language": "python",
   "name": "sierra_leone"
  },
  "language_info": {
   "codemirror_mode": {
    "name": "ipython",
    "version": 3
   },
   "file_extension": ".py",
   "mimetype": "text/x-python",
   "name": "python",
   "nbconvert_exporter": "python",
   "pygments_lexer": "ipython3",
   "version": "3.7.7"
  }
 },
 "nbformat": 4,
 "nbformat_minor": 4
}
